{
 "cells": [
  {
   "cell_type": "markdown",
   "metadata": {},
   "source": [
    "# PROJECT 1: DATA ANALYSIS PROJECT"
   ]
  },
  {
   "cell_type": "markdown",
   "metadata": {},
   "source": [
    "**Table of contents**<a id='toc0_'></a>    \n",
    "- 1. [Aggregate inflation in Denmark](#toc1_)    \n",
    "  - 1.1. [Basics](#toc1_1_)    \n",
    "  - 1.2. [Instantaneous inflation](#toc1_2_)    \n",
    "  - 1.3. [Core inflation](#toc1_3_)    \n",
    "  - 1.4. [Disaggregated inflation in Denmark](#toc1_4_)   \n",
    "- 2. [International Comparison](#toc2_)    \n",
    "  - 2.1. [CPI vs HICP](#toc2_1_)    \n",
    "  - 2.2. [Across countries](#toc2_2_)    \n",
    "- 3. [Extension](#toc2_)  \n",
    "\n",
    "<!-- vscode-jupyter-toc-config\n",
    "\tnumbering=true\n",
    "\tanchor=true\n",
    "\tflat=false\n",
    "\tminLevel=2\n",
    "\tmaxLevel=6\n",
    "\t/vscode-jupyter-toc-config -->\n",
    "<!-- THIS CELL WILL BE REPLACED ON TOC UPDATE. DO NOT WRITE YOUR TEXT IN THIS CELL -->"
   ]
  },
  {
   "cell_type": "code",
   "execution_count": null,
   "metadata": {},
   "outputs": [],
   "source": [
    "# Importing packages\n",
    "import re\n",
    "import numpy as np\n",
    "import pandas as pd\n",
    "from IPython.display import display\n",
    "import Aflevering as py\n",
    "import matplotlib.pyplot as plt\n",
    "from dstapi import DstApi\n",
    "\n",
    "plt.rcParams.update({'axes.grid':True,'grid.color':'black','grid.alpha':'0.25','grid.linestyle':'--'})\n",
    "plt.rcParams.update({'font.size': 14})\n",
    "\n"
   ]
  },
  {
   "cell_type": "markdown",
   "metadata": {},
   "source": [
    "## 1. <a id='toc1_'></a>[Aggregate inflation in Denmark](#toc0_)"
   ]
  },
  {
   "cell_type": "code",
   "execution_count": null,
   "metadata": {},
   "outputs": [],
   "source": [
    "# Setting up dictionaries for renaming columns and variables for the PRIS113 database\n",
    "# Making sure that the code is robust with regards to name\n",
    "columns_dict = {}\n",
    "columns_dict['TYPE'] = 'variable'\n",
    "columns_dict['MÅNED'] = 'month'\n",
    "columns_dict['INDHOLD'] = 'value'\n",
    "\n",
    "var_dict = {}\n",
    "var_dict['Forbrugerprisindeks'] = 'CPI'"
   ]
  },
  {
   "cell_type": "code",
   "execution_count": null,
   "metadata": {},
   "outputs": [],
   "source": [
    "# Downloading data from PRIS113 database using dstapi\n",
    "API = DstApi('PRIS113') \n",
    "params = API._define_base_params(language='en') # On english, but can also chose to make it on danish by using 'da'\n",
    "display(params)\n",
    "API = API.get_data(params)"
   ]
  },
  {
   "cell_type": "code",
   "execution_count": null,
   "metadata": {},
   "outputs": [],
   "source": [
    "# Renaming columns and variables from the PRIS113 database to the dictionaries defined above\n",
    "API = API.rename(columns=columns_dict)\n",
    "for key, value in var_dict.items():\n",
    "    API.variable.replace(key, value, inplace=True)\n",
    "\n",
    "API['value'] = pd.to_numeric(API['value'])\n",
    "\n",
    "API.head()"
   ]
  },
  {
   "cell_type": "code",
   "execution_count": null,
   "metadata": {},
   "outputs": [],
   "source": [
    "# Renaming TID to Time and converting to datetime\n",
    "API['date'] = pd.to_datetime(API['TID'], format='%YM%m')\n",
    "API['year'] = API.date.dt.year\n",
    "API['month'] = API.date.dt.month\n",
    "\n",
    "# Dropping TID colonen\n",
    "API = API.drop(columns=['TID'])\n",
    "\n",
    "# Se datasættet\n",
    "API.head()"
   ]
  },
  {
   "cell_type": "code",
   "execution_count": null,
   "metadata": {},
   "outputs": [],
   "source": [
    "# Sort after date\n",
    "API = API.sort_values('date').reset_index(drop=True)\n",
    "# Verifify that it's sorted\n",
    "API[['date', 'year', 'month', 'value']].head(10)"
   ]
  },
  {
   "cell_type": "markdown",
   "metadata": {},
   "source": [
    "### 1.1. <a id='toc1_1_'></a>[Basics](#toc0_)"
   ]
  },
  {
   "cell_type": "code",
   "execution_count": null,
   "metadata": {},
   "outputs": [],
   "source": [
    "# Calculated the consumer price index (CPI), P_t, indexed to 100 on average in 2020\n",
    "cpi_2020_avg = API[API['year'] == 2020]['value'].mean()\n",
    "print(f\"Gennemsnitlig CPI i 2020: {cpi_2020_avg:.2f}\")\n",
    "\n",
    "# Calculate P_t for all years\n",
    "API['P_t'] = (API['value'] / cpi_2020_avg) * 100\n",
    "\n",
    "# Look at the results\n",
    "API[['date', 'year', 'value', 'P_t']].head(10)\n",
    "API[['date', 'year', 'value', 'P_t']].tail(10)"
   ]
  },
  {
   "cell_type": "code",
   "execution_count": null,
   "metadata": {},
   "outputs": [],
   "source": [
    "# Calculate yearly average CPI\n",
    "API_yearly = API.groupby('year')['P_t'].mean().reset_index()\n",
    "\n",
    "# Plotting the CPI over time\n",
    "fig, ax = plt.subplots(figsize=(14, 6))\n",
    "ax.plot(API_yearly['year'], API_yearly['P_t'], marker='o')\n",
    "ax.set_xlabel('Year')\n",
    "ax.set_ylabel('CPI (2020=100)')\n",
    "ax.set_title('CPI in Denmark (yearly average)')\n",
    "ax.axhline(y=100, color='red', linestyle='--', alpha=0.5, label='2020=100')\n",
    "ax.grid(True, alpha=0.3)\n",
    "ax.legend()\n",
    "plt.tight_layout()\n",
    "plt.show()"
   ]
  },
  {
   "cell_type": "code",
   "execution_count": null,
   "metadata": {},
   "outputs": [],
   "source": [
    "# Calculate month-to-month inflation rate π_t = value_t / value_{t-1} - 1\n",
    "API['pi_t'] = API['value'] / API['value'].shift(1) - 1\n",
    "\n",
    "# Look at the results\n",
    "API[['date', 'year', 'value', 'pi_t']].tail(20)"
   ]
  },
  {
   "cell_type": "code",
   "execution_count": null,
   "metadata": {},
   "outputs": [],
   "source": [
    "# Filter from 2010\n",
    "API_2010 = API[API['year'] >= 2010]\n",
    "\n",
    "# Plot as a barchart\n",
    "fig, ax = plt.subplots(figsize=(14, 6))\n",
    "ax.bar(API_2010['date'], API_2010['pi_t'] * 100, width=20, alpha=0.7)\n",
    "ax.set_xlabel('Year')\n",
    "ax.set_ylabel('Month to month inflation(%)')\n",
    "ax.set_title('Month to month inflaiton in Denmark(2010-)')\n",
    "ax.axhline(y=0, color='black', linestyle='-', linewidth=0.5)\n",
    "ax.grid(True, alpha=0.3, axis='y')\n",
    "plt.tight_layout()\n",
    "plt.show()"
   ]
  },
  {
   "cell_type": "code",
   "execution_count": null,
   "metadata": {},
   "outputs": [],
   "source": [
    "# Calculate 12-month inflation rate π_t^12 = value_t / value_{t-12} - 1\n",
    "API['pi_t_12'] = API['value'] / API['value'].shift(12) - 1\n",
    "\n",
    "# Se resultatet\n",
    "API[['date', 'year', 'value', 'pi_t_12']].tail(20)"
   ]
  },
  {
   "cell_type": "code",
   "execution_count": null,
   "metadata": {},
   "outputs": [],
   "source": [
    "# Filter from 2010\n",
    "API_2010 = API[API['year'] >= 2010]\n",
    "\n",
    "# Plot as a barchart\n",
    "fig, ax = plt.subplots(figsize=(14, 6))\n",
    "ax.bar(API_2010['date'], API_2010['pi_t_12'] * 100, width=20, alpha=0.7)\n",
    "ax.set_xlabel('Year')\n",
    "ax.set_ylabel('12 months inflation (%)')\n",
    "ax.set_title('12 month inflation in Denmark (2010-)')\n",
    "ax.axhline(y=0, color='black', linestyle='-', linewidth=0.5)\n",
    "ax.grid(True, alpha=0.3, axis='y')\n",
    "ax.legend()\n",
    "plt.tight_layout()\n",
    "plt.show()"
   ]
  },
  {
   "cell_type": "markdown",
   "metadata": {},
   "source": [
    "**When did the post-pandemic inflation surge end in Denmark?**"
   ]
  },
  {
   "cell_type": "markdown",
   "metadata": {},
   "source": [
    "The post-pandemic inflation surge in Denmark peaked in late 2022 to early 2023, reaching approximately 10% on a 12-month basis. After this peak, inflation declined steadily throughout 2023. By late 2023 and into early 2024, inflation had returned to around 2% or below, comparable to pre-pandemic levels. The month-to-month data shows that price volatility also normalized during this period. While inflation rates returned to target levels, the cumulative CPI index shows that the overall price level remained permanently elevated from the surge."
   ]
  },
  {
   "cell_type": "markdown",
   "metadata": {},
   "source": [
    "### 1.2. <a id='toc1_2_'></a>[Instantaneous inflation](#toc0_)"
   ]
  },
  {
   "cell_type": "code",
   "execution_count": null,
   "metadata": {},
   "outputs": [],
   "source": [
    "# 1. Setting start values and computing kappa(k,α)\n",
    "T = 11\n",
    "k_values = np.arange(0, 12)\n",
    "alpha_values = [0, 1, 2, 3]\n",
    "\n",
    "def compute_kappa(k, alpha, T=11):\n",
    "    \"\"\"Beregn vægtfunktion κ(k, α)\"\"\"\n",
    "    if alpha == 0:\n",
    "        return 1/12  # Lige vægtning når α=0\n",
    "    numerator = (T - k)**alpha\n",
    "    denominator = sum((T - j)**alpha for j in range(12))\n",
    "    return numerator / denominator\n",
    "\n",
    "# Plot κ(k,α) for k = 0,1,...,11 og α = 0,1,2,3\n",
    "fig, ax = plt.subplots(figsize=(10, 6))\n",
    "for alpha in alpha_values:\n",
    "    kappas = [compute_kappa(k, alpha) for k in k_values]\n",
    "    ax.plot(k_values, kappas, marker='', label=f'α={alpha}')\n",
    "\n",
    "ax.set_xlabel('k (months back)')\n",
    "ax.set_ylabel('κ(k,α)')\n",
    "ax.set_title('Weight function κ(k,α) - higher α gives more weight to recent months')\n",
    "ax.legend()\n",
    "ax.grid(True, alpha=0.3)\n",
    "plt.tight_layout()\n",
    "plt.show()"
   ]
  },
  {
   "cell_type": "code",
   "execution_count": null,
   "metadata": {},
   "outputs": [],
   "source": [
    "# 2. Compute π_t^{12,α} using rolling method\n",
    "def compute_instantaneous_inflation_rolling(pi_t, alpha):\n",
    "    \"\"\"\n",
    "    Compute π_t^{12,α} using rolling window\n",
    "    pi_t: monthly inflation rates (as decimals)\n",
    "    \"\"\"\n",
    "    def weighted_inflation(window):\n",
    "        if len(window) < 12:\n",
    "            return np.nan\n",
    "        # Window is ordered oldest to newest, reverse to match k indexing\n",
    "        # where k=0 is most recent\n",
    "        window_reversed = window[::-1]\n",
    "        # Compute weighted geometric mean: ∏(1 + π_t-k)^κ(k,α) - 1\n",
    "        weights = [compute_kappa(k, alpha) for k in range(12)]\n",
    "        product = np.prod((1 + window_reversed) ** weights)\n",
    "        return product - 1\n",
    "    \n",
    "    return pi_t.rolling(window=12).apply(weighted_inflation, raw=True)\n",
    "\n",
    "# Calculate for all α values\n",
    "for alpha in alpha_values:\n",
    "    API[f'pi_inst_alpha_{alpha}'] = compute_instantaneous_inflation_rolling(API['pi_t'], alpha)\n",
    "\n",
    "# Verify that at α=0, it gives the same result as standard 12-month inflation\n",
    "print(\"Comparison α=0 vs standard 12-month inflation:\")\n",
    "comparison = API[['date', 'pi_t_12', 'pi_inst_alpha_0']].tail(10)\n",
    "comparison['difference'] = comparison['pi_t_12'] - comparison['pi_inst_alpha_0']\n",
    "print(comparison)\n"
   ]
  },
  {
   "cell_type": "code",
   "execution_count": null,
   "metadata": {},
   "outputs": [],
   "source": [
    "# 3. Plot siden 2019\n",
    "API_2019 = API[API['year'] >= 2019]\n",
    "\n",
    "fig, ax = plt.subplots(figsize=(14, 7))\n",
    "for alpha in alpha_values:\n",
    "    ax.plot(API_2019['date'], API_2019[f'pi_inst_alpha_{alpha}'] * 100, \n",
    "            label=f'α={alpha}', linewidth=2)\n",
    "\n",
    "ax.set_xlabel('År')\n",
    "ax.set_ylabel('Instantaneous inflation (%)')\n",
    "ax.set_title('Instantaneous inflation π_t^{12,α} i Danmark (2019-)')\n",
    "ax.axhline(y=2, color='red', linestyle='--', linewidth=1, alpha=0.7, label='2% målsætning')\n",
    "ax.grid(True, alpha=0.3)\n",
    "ax.legend()\n",
    "plt.tight_layout()\n",
    "plt.show()\n",
    "\n",
    "# Find hvornår inflationen toppede for forskellige α\n",
    "print(\"\\nHvornår toppede inflationen for forskellige α:\")\n",
    "for alpha in alpha_values:\n",
    "    post_2020 = API[API['year'] >= 2020]\n",
    "    peak_idx = post_2020[f'pi_inst_alpha_{alpha}'].idxmax()\n",
    "    peak_data = post_2020.loc[peak_idx]\n",
    "    print(f\"α={alpha}: {peak_data['date'].strftime('%Y-%m')}, {peak_data[f'pi_inst_alpha_{alpha}']*100:.2f}%\")"
   ]
  },
  {
   "cell_type": "markdown",
   "metadata": {},
   "source": [
    "The standard measure (α = 0) peaks in late 2022 at 0.8%. The high-α measures\n",
    "(α = 2, 3) peak earlier in mid-2022 at 1.0% and decline sharply thereafter—reaching\n",
    "negative territory by late 2023 while α = 0 remains elevated.\n",
    "This suggests high-α measures can signal turning points months ahead of standard\n",
    "inflation, acting as an early warning system, while α = 0 provides a more stable\n",
    "structural view of inflationary periods."
   ]
  },
  {
   "cell_type": "markdown",
   "metadata": {},
   "source": [
    "### 1.3. <a id='toc1_2_'></a>[Core inflation](#toc0_)"
   ]
  },
  {
   "cell_type": "code",
   "execution_count": null,
   "metadata": {},
   "outputs": [],
   "source": [
    "# Get data from PRIS111 (Consumer Price Index - detailed)\n",
    "pris111_api = DstApi('PRIS111')\n",
    "\n",
    "params = pris111_api._define_base_params(language='en')\n",
    "display(params)\n",
    "pris111 = pris111_api.get_data(params)\n",
    "\n",
    "#see unique values in various columns\n",
    "print(pris111['ENHED'].unique()) \n",
    "print(pris111['VAREGR'].unique())"
   ]
  },
  {
   "cell_type": "code",
   "execution_count": null,
   "metadata": {},
   "outputs": [],
   "source": [
    "# Define filters (relevant groups and unit)\n",
    "target_unit = \"Percentage change compared to same month the year before (per cent)\"\n",
    "groups = [\n",
    "    \"00 Consumer price index, total\",\n",
    "    \"15.1 Overall Consumer Price Index excl. energy\",\n",
    "    \"14.1 Overall Consumer Price Index - excl. energy and unprocessed food (core inflation)\",\n",
    "]\n",
    "\n",
    "# using the filters\n",
    "df = pris111.loc[\n",
    "    (pris111[\"ENHED\"] == target_unit) & (pris111[\"VAREGR\"].isin(groups)),\n",
    "    [\"TID\", \"VAREGR\", \"INDHOLD\"]\n",
    "].copy()\n",
    "\n",
    "# Convert to numeric & datetime \n",
    "df[\"INDHOLD\"] = pd.to_numeric(df[\"INDHOLD\"], errors=\"coerce\")\n",
    "df[\"date\"] = pd.to_datetime(df[\"TID\"].str.replace(\"M\", \"-\"), format=\"%Y-%m\", errors=\"coerce\")\n",
    "\n",
    "# --- Aggregate if duplicates ---\n",
    "#df = df.groupby([\"date\", \"VAREGR\"], as_index=False)[\"INDHOLD\"].mean()\n",
    "\n",
    "# Pivot to wide format \n",
    "wide = (\n",
    "    df.pivot(index=\"date\", columns=\"VAREGR\", values=\"INDHOLD\")\n",
    "      .sort_index()\n",
    "      .loc[\"2019-01-01\":]\n",
    ")\n",
    "\n",
    "# Rename for cleaner legend labels ---\n",
    "name_map = {\n",
    "    \"00 Consumer price index, total\": \"CPI (Total)\",\n",
    "    \"15.1 Overall Consumer Price Index excl. energy\": \"CPI excl. energy\",\n",
    "    \"14.1 Overall Consumer Price Index - excl. energy and unprocessed food (core inflation)\": \"Core inflation\",\n",
    "}\n",
    "wide = wide.rename(columns=name_map) #applying the rename\n",
    "\n",
    "# Plot \n",
    "fig, ax = plt.subplots(figsize=(12, 6))\n",
    "wide.plot(ax=ax, linewidth=2)\n",
    "ax.axhline(0, color=\"black\", linewidth=1)\n",
    "ax.set_title(\"Denmark: Year-over-Year Inflation Rates (since 2019)\", fontsize=14)\n",
    "ax.set_xlabel(\"Date\")\n",
    "ax.set_ylabel(\"Year-over-Year Change (%)\")\n",
    "ax.legend(title=\"Measure\", loc=\"upper left\", frameon=False)\n",
    "ax.grid(True, axis=\"y\", linestyle=\"--\", alpha=0.7)\n",
    "plt.tight_layout()\n",
    "plt.show()"
   ]
  },
  {
   "cell_type": "markdown",
   "metadata": {},
   "source": [
    "**Comments on the figure** :\n",
    "\n",
    "Using the PRIS111 table from Statistics Denmark, we can decompose inflation into several distinct groups. This allows us to separate the effects of energy and food prices from what is often referred to as core inflation.\n",
    "\n",
    "The figure above displays the annual growth rate of overall inflation, inflation excluding energy, and inflation excluding both energy and food. The figure shows that particular energy has been a driving factor in the large inflation we experienced towards the end of 2022. "
   ]
  },
  {
   "cell_type": "markdown",
   "metadata": {},
   "source": [
    "### 1.4. <a id='toc1_4_'></a>[Disaggregated inflation in Denmark](#toc0_)"
   ]
  },
  {
   "cell_type": "code",
   "execution_count": null,
   "metadata": {},
   "outputs": [],
   "source": [
    "# Inspect the category levels\n",
    "levels = DstApi('PRIS111').variable_levels('VAREGR', language='en')\n",
    "\n",
    "# Print all categories\n",
    "for row in levels.itertuples():\n",
    "    print(row.id, \"-\", row.text)"
   ]
  },
  {
   "cell_type": "code",
   "execution_count": null,
   "metadata": {},
   "outputs": [],
   "source": [
    "# We extract the numeric part from 'text' (before the first space)\n",
    "levels['numcode'] = levels['text'].str.extract(r'^([\\d\\.]+)')\n",
    "\n",
    "# Remove dots and count digits\n",
    "levels['numcode_clean'] = levels['numcode'].str.replace('.', '', regex=False)\n",
    "\n",
    "# Keep only those with 4 digits\n",
    "filtered = levels[levels['numcode_clean'].str.len() == 4]\n",
    "\n",
    "# Print the result\n",
    "for row in filtered.itertuples():\n",
    "    print(row.id, \"-\", row.text)"
   ]
  },
  {
   "cell_type": "code",
   "execution_count": null,
   "metadata": {},
   "outputs": [],
   "source": [
    "# --- metadata for canonical names at 01.1.1 level (optional but nice) ---\n",
    "levels = DstApi('PRIS111').variable_levels('VAREGR', language='en').copy()\n",
    "names_3seg = (\n",
    "    levels['text']\n",
    "      .str.extract(r'^(?P<code3>\\d{2}\\.\\d\\.\\d)\\s+(?P<name3>.+)$')\n",
    "      .dropna()\n",
    "      .drop_duplicates()\n",
    ")\n",
    "\n",
    "# --- prices ---\n",
    "prices = pris111[pris111['ENHED'] == 'Index'].copy()\n",
    "\n",
    "# Keep ONLY rows where VAREGR is EXACTLY three segments: \"01.1.1 <name>\"\n",
    "exact_3seg = prices['VAREGR'].str.match(r'^\\d{2}\\.\\d\\.\\d\\s')\n",
    "prices = prices.loc[exact_3seg].copy()\n",
    "\n",
    "# Extract code + (raw) name from VAREGR\n",
    "m = prices['VAREGR'].str.extract(r'^(?P<code3>\\d{2}\\.\\d\\.\\d)\\s+(?P<name_raw>.+)$')\n",
    "prices = pd.concat([prices, m], axis=1)   # avoids the \"columns overlap\" join error\n",
    "\n",
    "# Parse value and date\n",
    "prices['INDHOLD'] = pd.to_numeric(prices['INDHOLD'].astype(str).str.replace(',', '.'), errors='coerce')\n",
    "prices['date'] = pd.to_datetime(prices['TID'].str.replace('M', '-'), format='%Y-%m', errors='coerce')\n",
    "\n",
    "# Drop rows without value/date\n",
    "prices = prices.dropna(subset=['INDHOLD', 'date'])\n",
    "\n",
    "# Attach canonical name (if available)\n",
    "prices = prices.merge(names_3seg, on='code3', how='left')\n",
    "prices['name'] = prices['name3'].fillna(prices['name_raw'])\n",
    "prices = prices.drop(columns=['name3'])\n",
    "\n",
    "# Sanity checks (should be zero)\n",
    "#   multiple rows per (date, code3)?\n",
    "dupes = prices.duplicated(['date', 'code3'], keep=False).sum()\n",
    "#   any NaNs left in INDHOLD?\n",
    "n_nans = prices['INDHOLD'].isna().sum()\n",
    "\n",
    "print(f\"Duplicated (date, code3) rows: {dupes}\")\n",
    "print(f\"NaNs in INDHOLD: {n_nans}\")\n",
    "\n",
    "# Sort and preview\n",
    "prices = prices.sort_values(['date', 'code3'])\n",
    "print(prices[['date', 'code3', 'name', 'INDHOLD']].head(12))"
   ]
  },
  {
   "cell_type": "code",
   "execution_count": null,
   "metadata": {},
   "outputs": [],
   "source": [
    "# Compute 12-month percent change (YoY inflation)\n",
    "prices['infl_12m'] = prices.groupby('code3')['INDHOLD'].pct_change(12) * 100\n",
    "\n",
    "# Drop rows without inflation value\n",
    "prices = prices.dropna(subset=['infl_12m'])\n",
    "\n",
    "#preview \n",
    "print(prices[['date','code3','name','INDHOLD','infl_12m']].head(12))\n"
   ]
  },
  {
   "cell_type": "code",
   "execution_count": null,
   "metadata": {},
   "outputs": [],
   "source": [
    "# Group by date and compute distribution percentiles\n",
    "summary = (\n",
    "    prices.groupby('date')['infl_12m']\n",
    "          .agg(\n",
    "              p25=lambda x: x.quantile(0.25),\n",
    "              p50=lambda x: x.quantile(0.50),\n",
    "              p75=lambda x: x.quantile(0.75)\n",
    "          )\n",
    "          .reset_index()\n",
    ")\n",
    "\n",
    "\n",
    "fig, ax = plt.subplots(figsize=(12, 6))\n",
    "\n",
    "ax.plot(summary['date'], summary['p25'], linestyle='--', label='25th percentile')\n",
    "ax.plot(summary['date'], summary['p50'], linewidth=2, label='Median (50th)')\n",
    "ax.plot(summary['date'], summary['p75'], linestyle='--', label='75th percentile')\n",
    "\n",
    "ax.set_title('Distribution of 12-Month Inflation (4-digit CPI categories)')\n",
    "ax.set_xlabel('Month')\n",
    "ax.set_ylabel('Inflation rate (%)')\n",
    "ax.legend()\n",
    "ax.grid(True, axis='y', alpha=0.7)\n",
    "plt.tight_layout()\n",
    "plt.show()"
   ]
  },
  {
   "cell_type": "markdown",
   "metadata": {},
   "source": [
    "***1.4.3 - Plot histogram***"
   ]
  },
  {
   "cell_type": "code",
   "execution_count": null,
   "metadata": {},
   "outputs": [],
   "source": [
    "# Ensure we only use the relevant window\n",
    "start, end = \"2020-08-01\", \"2025-08-01\"\n",
    "\n",
    "# Get price levels for those months\n",
    "df_2020 = prices.loc[prices['date'] == start, ['code3', 'INDHOLD']].rename(columns={'INDHOLD': 'p_2020'})\n",
    "df_2025 = prices.loc[prices['date'] == end,   ['code3', 'INDHOLD']].rename(columns={'INDHOLD': 'p_2025'})\n",
    "\n",
    "# Merge and compute percent change\n",
    "change = (\n",
    "    df_2020.merge(df_2025, on='code3', how='inner')\n",
    "           .assign(pct_change=lambda d: (d['p_2025'] / d['p_2020'] - 1) * 100)\n",
    "           .dropna(subset=['pct_change'])\n",
    ")\n"
   ]
  },
  {
   "cell_type": "code",
   "execution_count": null,
   "metadata": {},
   "outputs": [],
   "source": [
    "fig, ax = plt.subplots(figsize=(10, 6))\n",
    "ax.hist(change['pct_change'], bins=40, color='skyblue', edgecolor='black', alpha=0.8)\n",
    "\n",
    "ax.set_title('Distribution of 5-Year Price Changes (Aug 2020 – Aug 2025)\\n4-digit CPI categories')\n",
    "ax.set_xlabel('Percent change in price (%)')\n",
    "ax.set_ylabel('Number of product categories')\n",
    "ax.grid(axis='y', alpha=0.5)\n",
    "\n",
    "plt.tight_layout()\n",
    "plt.show()"
   ]
  },
  {
   "cell_type": "markdown",
   "metadata": {},
   "source": [
    "\n",
    "DET FORKERT - RET til din beskrivelse af 5 års\n",
    "The histogram shows that most categories cluster around 2 or 3 percent, which corresponds somewhat to the overall inflation level. However there are outliers, especially on the right hand side of 0, where some goods have seen a strong increase.\n",
    "\n",
    "The relatively narrow shape of the histogram implies low overall dispersion, meaning inflation in August 2025 was more balanced across categories than during earlier more volatile periods."
   ]
  },
  {
   "cell_type": "code",
   "execution_count": null,
   "metadata": {},
   "outputs": [],
   "source": [
    "# Get the last available month \n",
    "latest_month = prices['date'].max()\n",
    "\n",
    "print(prices.columns.tolist())\n",
    "\n",
    "latest = prices.loc[prices['date'] == latest_month]"
   ]
  },
  {
   "cell_type": "code",
   "execution_count": null,
   "metadata": {},
   "outputs": [],
   "source": [
    "# Sort by inflation rate\n",
    "top10 = latest.nlargest(10, 'infl_12m')\n",
    "bottom10 = latest.nsmallest(10, 'infl_12m')\n",
    "\n",
    "print(\"Top 10 categories (highest inflation):\")\n",
    "print(top10[['code3', 'name', 'infl_12m']])\n",
    "\n",
    "print(\"\\nBottom 10 categories (lowest inflation):\")\n",
    "print(bottom10[['code3', 'name', 'infl_12m']])"
   ]
  },
  {
   "cell_type": "code",
   "execution_count": null,
   "metadata": {},
   "outputs": [],
   "source": [
    "# Get the latest month (should be Aug 2025)\n",
    "latest_month = prices['date'].max()\n",
    "\n",
    "# Extract 12-month inflation rates for that month\n",
    "latest = (\n",
    "    prices.loc[prices['date'] == latest_month, ['code3', 'name', 'infl_12m']]\n",
    "    .dropna(subset=['infl_12m'])\n",
    ")\n",
    "\n",
    "# Rank categories by inflation\n",
    "top10 = latest.nlargest(10, 'infl_12m')\n",
    "bottom10 = latest.nsmallest(10, 'infl_12m')\n",
    "\n",
    "# Combine and label for plotting\n",
    "ranked = pd.concat([top10, bottom10])\n",
    "ranked['category'] = ranked['code3'] + ' ' + ranked['name']\n",
    "\n",
    "# Sort for plotting (lowest at bottom, highest at top)\n",
    "ranked_sorted = ranked.sort_values('infl_12m')\n",
    "\n",
    "# Bar chart\n",
    "fig, ax = plt.subplots(figsize=(8, 6))\n",
    "ax.barh(ranked_sorted['category'], ranked_sorted['infl_12m'], color='slateblue')\n",
    "ax.axvline(0, color='black', linewidth=1)\n",
    "ax.set_title('Top 10 and Bottom 10 12-Month Inflation Categories (Aug 2025)')\n",
    "ax.set_xlabel('12-Month Inflation Rate (%)')\n",
    "ax.grid(True, axis='x', alpha=0.5)\n",
    "plt.tight_layout()\n",
    "plt.show()"
   ]
  },
  {
   "cell_type": "markdown",
   "metadata": {},
   "source": [
    "## 2. <a id='toc2_'></a>[International Comparison](#toc0_)"
   ]
  },
  {
   "cell_type": "markdown",
   "metadata": {},
   "source": [
    "### 2.1. <a id='toc2_1_'></a>[CPI vs HICP](#toc0_)"
   ]
  },
  {
   "cell_type": "code",
   "execution_count": null,
   "metadata": {},
   "outputs": [],
   "source": [
    "pip install fredapi"
   ]
  },
  {
   "cell_type": "code",
   "execution_count": null,
   "metadata": {},
   "outputs": [],
   "source": [
    "pip install pandas_datareader"
   ]
  },
  {
   "cell_type": "code",
   "execution_count": null,
   "metadata": {},
   "outputs": [],
   "source": [
    "from fredapi import Fred\n",
    "from pandas_datareader import data as pdr\n",
    "from IPython.display import display"
   ]
  },
  {
   "cell_type": "code",
   "execution_count": null,
   "metadata": {},
   "outputs": [],
   "source": [
    "# Download CPI data from Statistics Denmark\n",
    "print(\"Download CPI from Statistics Denmark\")\n",
    "api = DstApi('PRIS113')\n",
    "params = api._define_base_params(language='en')\n",
    "data = api.get_data(params)\n",
    "\n",
    "# print first five rows to track data\n",
    "print(f\"Number of rows downloaded: {len(data)}\")\n",
    "display(data.head())\n",
    "\n",
    "# keep only 2010 and onward\n",
    "data = data[data['TID'] >= '2010M01']\n",
    "print(f\"\\nAfter filtering (from 2010): {len(data)} observations\")\n",
    "display(data.head())\n",
    "\n",
    "# rename to english (standardized names)\n",
    "rename_map = {\n",
    "    'TID': 'time', 'time': 'time',\n",
    "    'INDHOLD': 'value', 'value': 'value',\n",
    "    'TYPE': 'type', 'type': 'type'\n",
    "}\n",
    "for k, v in rename_map.items():\n",
    "    if k in data.columns:\n",
    "        data = data.rename(columns={k: v})\n",
    "\n",
    "# date format, sort and rename\n",
    "df_cpi = data[['time', 'value']].copy()\n",
    "df_cpi['date'] = pd.to_datetime(df_cpi['time'], format='%YM%m')\n",
    "df_cpi = df_cpi.sort_values('date')\n",
    "df_cpi = df_cpi.rename(columns={'value': 'CPI'})\n",
    "\n",
    "#print to keep track\n",
    "print(\"\\nCPI data after cleaning:\")\n",
    "display(df_cpi.head())\n",
    "print(f\"CPI date range: {df_cpi['date'].min()} → {df_cpi['date'].max()}\")\n",
    "\n",
    "# get HICP data from FRED\n",
    "print(\"\\nDownload HICP from FRED\")\n",
    "from fredapi import Fred\n",
    "fred = Fred(api_key=\"60c118ce211cbc54a03242bbf7dc7c19\")\n",
    "hicp = fred.get_series('CP0000DKM086NEST').reset_index()\n",
    "hicp.columns = ['date', 'HICP']\n",
    "\n",
    "#keep track\n",
    "print(f\"HICP date range: {hicp['date'].min()} → {hicp['date'].max()}\")\n",
    "print(f\"Number of rows downloaded from FRED: {len(hicp)}\")\n",
    "display(hicp.head())\n",
    "\n",
    "# merging DST and FRED, and print\n",
    "print(\"\\nMerging CPI and HICP\")\n",
    "merged = pd.merge(df_cpi, hicp, on='date', how='inner')\n",
    "merged = merged[merged['date'] >= '2010-01-01']\n",
    "print(f\"Number of overlapping observations (since 2010): {len(merged)}\")\n",
    "print(f\"Columns: {list(merged.columns)}\")\n",
    "print(f\"Date range: {merged['date'].min().strftime('%Y-%m')} → {merged['date'].max().strftime('%Y-%m')}\")\n",
    "print(\"\\nFull merged dataset:\")\n",
    "display(merged)\n",
    "\n",
    "# normalize such that index (2019=100), for asignmnet 2.2\n",
    "print(\"\\nNormalizing both series to average = 100 in 2019\")\n",
    "\n",
    "# keep sure that columns is num\n",
    "merged['CPI'] = pd.to_numeric(merged['CPI'], errors='coerce')\n",
    "merged['HICP'] = pd.to_numeric(merged['HICP'], errors='coerce')\n",
    "\n",
    "# average CPI and HICP in 2019 \n",
    "base_period = merged.loc[merged['date'].dt.year == 2019, ['CPI', 'HICP']].mean()\n",
    "print(\"Average values in 2019:\")\n",
    "display(base_period.to_frame().T)\n",
    "\n",
    "# normalized series\n",
    "merged['CPI_norm'] = merged['CPI'] / base_period['CPI'] * 100\n",
    "merged['HICP_norm'] = merged['HICP'] / base_period['HICP'] * 100\n",
    "\n",
    "print(\"\\nMerged data 2019=100:\")\n",
    "display(merged.head())\n",
    "\n",
    "# Plot CPI vs HICP\n",
    "print(\"\\nPlot CPI vs HICP\")\n",
    "plt.figure(figsize=(10,6))\n",
    "plt.plot(merged['date'], merged['CPI_norm'], label='CPI (Statistics Denmark)')\n",
    "plt.plot(merged['date'], merged['HICP_norm'], label='HICP (FRED)', linestyle='--')\n",
    "plt.title('CPI vs HICP in Denmark (Indexed to 2019 = 100)')\n",
    "plt.ylabel('Index (2019 = 100)')\n",
    "plt.xlabel('Date')\n",
    "plt.legend()\n",
    "plt.grid(True)\n",
    "plt.show()\n"
   ]
  },
  {
   "cell_type": "markdown",
   "metadata": {},
   "source": [
    "When comparing the CPI and the HICP, it can be noted that they are closely related. They both measure inflation, and can in fact be compared directly, although they are not perfectly identical. According to Statistics Denmark, they both use about the same data sources and methods. The main difference between them is how they include owner-occupied dwellings and private hospitals. CPI includes them, while HICP excludes them such that the data is comparable between countries. As seen in the figure above, the two have the same trend and level. There are minor differences because of the difference in what they cover.\n",
    "It's indexed to 2019 because of it's use section 2.2"
   ]
  },
  {
   "cell_type": "markdown",
   "metadata": {},
   "source": [
    "### 2.2. <a id='toc2_2_'></a>[Across countries](#toc0_)"
   ]
  },
  {
   "cell_type": "markdown",
   "metadata": {},
   "source": [
    "***Task 2.2.1 and 2.2.2***"
   ]
  },
  {
   "cell_type": "code",
   "execution_count": null,
   "metadata": {},
   "outputs": [],
   "source": [
    "# Connecting to FRED  \n",
    "fred = Fred(api_key=\"60c118ce211cbc54a03242bbf7dc7c19\")\n",
    "\n",
    "# Defining FRED series IDs  \n",
    "fred_ids = {\n",
    "    \"Denmark\":        \"CP0000DKM086NEST\",   # HICP (monthly)\n",
    "    \"Austria\":        \"CP0000ATM086NEST\",   # HICP\n",
    "    \"Euro Area\":      \"CP0000EZ19M086NEST\", # HICP (EA19 – Euro area)\n",
    "    \"United States\":  \"CP0000USM086NEST\"    # HICP (for US in FRED; alternatively use CPIAUCSL)\n",
    "}\n",
    "# Fetching data and combining into a single DataFrame (long format)\n",
    "dfs = []\n",
    "for country, sid in fred_ids.items():\n",
    "    s = fred.get_series(sid, observation_start=\"2019-01-01\")  # returns pandas.Series\n",
    "    df = s.rename(\"value\").to_frame().reset_index().rename(columns={\"index\": \"date\"})\n",
    "    df[\"country\"] = country\n",
    "    dfs.append(df)\n",
    "\n",
    "hicp_long = pd.concat(dfs, ignore_index=True).sort_values([\"country\", \"date\"]).reset_index(drop=True)\n",
    "\n",
    "# Converting to wide format \n",
    "hicp_wide = hicp_long.pivot(index=\"date\", columns=\"country\", values=\"value\").sort_index()\n",
    "\n",
    "# Normalizing to 2019 = 100\n",
    "def norm_2019(g):\n",
    "    base = g.loc[g.index.year == 2019].mean()   # average for 2019\n",
    "    return g / base * 100\n",
    "\n",
    "hicp_2019 = hicp_wide.groupby(axis=1, level=0).apply(norm_2019)\n",
    "hicp_2019 = hicp_2019.loc[hicp_2019.index >= \"2019-01-01\"]\n",
    "\n",
    "# Computing 12-month inflation (YoY) \n",
    "hicp_yoy = hicp_wide.pct_change(12) * 100\n",
    "hicp_yoy = hicp_yoy.loc[hicp_yoy.index >= \"2019-01-01\"]\n",
    "\n",
    "# Plot: Indices (2019 = 100)  \n",
    "plt.figure(figsize=(10,6))\n",
    "for col in [\"Denmark\", \"Austria\", \"Euro Area\", \"United States\"]:\n",
    "    plt.plot(hicp_2019.index, hicp_2019[col], label=col)\n",
    "plt.title(\"HICP (All items), normalized to 2019 = 100\")\n",
    "plt.xlabel(\"Date\"); plt.ylabel(\"Index (2019 = 100)\")\n",
    "plt.legend(); plt.grid(True)\n",
    "plt.show()\n",
    "\n",
    "# Plot: 12-month inflation (YoY)  \n",
    "plt.figure(figsize=(10,6))\n",
    "for col in [\"Denmark\", \"Austria\", \"Euro Area\", \"United States\"]:\n",
    "    plt.plot(hicp_yoy.index, hicp_yoy[col], label=col)\n",
    "plt.title(\"12-month inflation rate (YoY)\")\n",
    "plt.xlabel(\"Date\"); plt.ylabel(\"Percent\")\n",
    "plt.legend(); plt.grid(True)\n",
    "plt.show()"
   ]
  },
  {
   "cell_type": "markdown",
   "metadata": {},
   "source": [
    "**Note to the first figure:** \n",
    "The indices are normalized so that the average level during 2019 equals 100. Individual months in 2019 may deviate slightly above or below 100, but the overall mean for the year is set as the baseline."
   ]
  },
  {
   "cell_type": "markdown",
   "metadata": {},
   "source": [
    "***Task 2.2.3***"
   ]
  },
  {
   "cell_type": "code",
   "execution_count": null,
   "metadata": {},
   "outputs": [],
   "source": [
    "# Prepare yearly statistics \n",
    "inflation = hicp_yoy.copy()\n",
    "inflation['year'] = inflation.index.year\n",
    "\n",
    "# Min, max, mean per country and year\n",
    "stats_by_year = (\n",
    "    inflation.groupby('year')[[\"Denmark\",\"Austria\",\"Euro Area\",\"United States\"]]\n",
    "    .agg(['min','max','mean'])\n",
    "    .round(2)\n",
    ")\n",
    "\n",
    "print(\"Yearly min, max, and mean 12-month inflation rates for each country\")\n",
    "display(stats_by_year)\n",
    "\n",
    "# Overall (since 2019)\n",
    "overall_stats = (\n",
    "    hicp_yoy[[\"Denmark\",\"Austria\",\"Euro Area\",\"United States\"]]\n",
    "    .agg(['min','max','mean'])\n",
    "    .round(2)\n",
    ")\n",
    "\n",
    "print(\"\\nOverall min, max, and mean since 2019\")\n",
    "display(overall_stats)"
   ]
  },
  {
   "cell_type": "markdown",
   "metadata": {},
   "source": [
    "**Cross-Country Differences in Inflation Since 2019**"
   ]
  },
  {
   "cell_type": "markdown",
   "metadata": {},
   "source": [
    "The figure and summary statistics reveal that inflation across Denmark, Austria, the Euro Area, and the United States followed broadly similar paths, but with notable differences in timing and magnitude.\n",
    "\n",
    "In 2020, inflation briefly declined in all economies due to the COVID-19 lockdowns. Average inflation rates were close to zero or slightly positive, ranging from –0,7 % in the United States to around 1 % in Austria.\n",
    "\n",
    "During 2021–2022, inflation accelerated sharply in response to supply-chain disruptions and energy price shocks. Austria experienced the highest peak, exceeding 11,5 %. All countries inflation rate peaked in 2022 and United States inflation fell more quickly afterward.\n",
    "\n",
    "From 2023 onward, inflation declined across all regions as energy prices normalized and monetary policy tightened. By 2024–2025, inflation had converged toward 1–3 % in most countries, consistent with central-bank targets.  \n",
    "\n",
    "Overall, the inflation paths were synchronized but not identical: the U.S. inflation spike occurred earlier and subsided faster, while Austria and the Euro Area faced more persistent price pressures through late 2023."
   ]
  },
  {
   "cell_type": "markdown",
   "metadata": {},
   "source": [
    "## 3. <a id='toc3_'></a>[Extension](#toc0_)"
   ]
  },
  {
   "cell_type": "code",
   "execution_count": null,
   "metadata": {},
   "outputs": [],
   "source": [
    "# --- Connect to FRED ---\n",
    "from fredapi import Fred\n",
    "import pandas as pd\n",
    "import matplotlib.pyplot as plt\n",
    "\n",
    "fred = Fred(api_key=\"60c118ce211cbc54a03242bbf7dc7c19\")\n",
    "\n",
    "# --- Define FRED series IDs ---\n",
    "series = {\n",
    "    # Unemployment rate (%)\n",
    "    \"Denmark\":        {\"unemp\": \"LRHUTTTTDKM156S\"},  # 15 years and above\n",
    "    \"Austria\":        {\"unemp\": \"LRHUTTTTATM156S\"},  # 15 years and above\n",
    "    \"Euro Area\":      {\"unemp\": \"LRHUTTTTEZM156S\"},  # Euro area (EZM)\n",
    "    \"United States\":  {\"unemp\": \"UNRATE\"},           # 16 years and above\n",
    "\n",
    "    # Real GDP (index or national currency, SA)\n",
    "    \"DK_GDP\": \"CLVMNACSCAB1GQDK\",    # Denmark\n",
    "    \"AT_GDP\": \"CLVMNACSCAB1GQAT\",    # Austria\n",
    "    \"EA_GDP\": \"CLVMNACSCAB1GQEA19\",  # Euro Area\n",
    "    \"US_GDP\": \"GDPC1\",               # US (billions, chained)\n",
    "\n",
    "    # Government expenditure (du har tjekket ID'erne; jeg ændrer dem ikke)\n",
    "    \"DK_GOV\": \"NAEXKP03DKQ189S\",\n",
    "    \"AT_GOV\": \"NAEXKP03ATQ189S\",\n",
    "    \"US_GOV\": \"FGEXPND\"\n",
    "}\n",
    "\n",
    "# --- Fetch unemployment (monthly) ---\n",
    "u_dfs = []\n",
    "for country in [\"Denmark\", \"Austria\", \"Euro Area\", \"United States\"]:\n",
    "    sid = series[country][\"unemp\"]\n",
    "    s = fred.get_series(sid, observation_start=\"2019-01-01\").rename(\"value\").to_frame().reset_index()\n",
    "    s[\"country\"] = country\n",
    "    u_dfs.append(s)\n",
    "\n",
    "unemp_long = pd.concat(u_dfs).sort_values([\"country\", \"index\"])\n",
    "unemp_wide = unemp_long.pivot(index=\"index\", columns=\"country\", values=\"value\")\n",
    "unemp_wide = unemp_wide.loc[unemp_wide.index >= \"2019-01-01\"]\n",
    "\n",
    "# --- Helper to flatten possible MultiIndex columns from concat(dict=...) ---\n",
    "def flatten_columns(df):\n",
    "    if isinstance(df.columns, pd.MultiIndex):\n",
    "        if df.columns.nlevels > 1:\n",
    "            df.columns = df.columns.get_level_values(0)\n",
    "        else:\n",
    "            df.columns = [str(c) for c in df.columns]\n",
    "    else:\n",
    "        df.columns = [str(c) for c in df.columns]\n",
    "    return df\n",
    "\n",
    "# --- Fetch GDP (quarterly) ---\n",
    "gdp_ids = {\"Denmark\": \"DK_GDP\", \"Austria\": \"AT_GDP\", \"Euro Area\": \"EA_GDP\", \"United States\": \"US_GDP\"}\n",
    "gdp_wide = pd.concat(\n",
    "    {k: fred.get_series(series[v], observation_start=\"2019-01-01\") for k, v in gdp_ids.items()},\n",
    "    axis=1\n",
    ")\n",
    "gdp_wide.index = pd.to_datetime(gdp_wide.index)\n",
    "gdp_wide = flatten_columns(gdp_wide)\n",
    "\n",
    "# --- Fetch Government Expenditure (quarterly, DK/AT/US) ---\n",
    "gov_ids = {\"Denmark\": \"DK_GOV\", \"Austria\": \"AT_GOV\", \"United States\": \"US_GOV\"}\n",
    "gov_wide = pd.concat(\n",
    "    {k: fred.get_series(series[v], observation_start=\"2019-01-01\") for k, v in gov_ids.items()},\n",
    "    axis=1\n",
    ")\n",
    "gov_wide.index = pd.to_datetime(gov_wide.index)\n",
    "gov_wide = flatten_columns(gov_wide)\n",
    "\n",
    "# --- Normalize GDP & Government Expenditure to 2019 = 100 ---\n",
    "def norm_2019(g):\n",
    "    base = g.loc[g.index.year == 2019].mean()\n",
    "    return g / base * 100\n",
    "\n",
    "gdp_norm = gdp_wide.apply(norm_2019)\n",
    "gov_norm = gov_wide.apply(norm_2019)\n",
    "\n",
    "# --- Plot Unemployment ---\n",
    "plt.figure(figsize=(10,6))\n",
    "for col in unemp_wide.columns:\n",
    "    plt.plot(unemp_wide.index, unemp_wide[col], label=col)\n",
    "plt.title(\"Unemployment Rate (%) — 2019–2025\")\n",
    "plt.xlabel(\"Date\")\n",
    "plt.ylabel(\"Percent\")\n",
    "plt.legend(title=\"Country\")\n",
    "plt.grid(True)\n",
    "plt.tight_layout()\n",
    "plt.show()\n",
    "\n",
    "# --- Plot Real GDP (2019 = 100) ---\n",
    "plt.figure(figsize=(10,6))\n",
    "for col in gdp_norm.columns:\n",
    "    plt.plot(gdp_norm.index, gdp_norm[col], label=col)\n",
    "plt.title(\"Real GDP, normalized to 2019 = 100\")\n",
    "plt.xlabel(\"Date\")\n",
    "plt.ylabel(\"Index (2019 = 100)\")\n",
    "plt.legend(title=\"Country\")\n",
    "plt.grid(True)\n",
    "plt.tight_layout()\n",
    "plt.show()\n",
    "\n",
    "gov_norm_pre23 = gov_norm.loc[gov_norm.index < \"2023-01-01\"]\n",
    "\n",
    "# --- Plot Government Expenditures (2019 = 100) ---\n",
    "plt.figure(figsize=(10,6))\n",
    "for col in gov_norm_pre23.columns:\n",
    "    plt.plot(gov_norm_pre23.index, gov_norm_pre23[col], label=col)\n",
    "plt.title(\"Government expenditures, normalized to 2019 = 100\")\n",
    "plt.xlabel(\"Date\")\n",
    "plt.ylabel(\"Index (2019 = 100)\")\n",
    "plt.legend(title=\"Country\")\n",
    "plt.grid(True)\n",
    "plt.tight_layout()\n",
    "plt.show()"
   ]
  },
  {
   "cell_type": "markdown",
   "metadata": {},
   "source": [
    "**Note**: In Figure 1, there is no data for the Euro Area after 2023. In Figure 3, there is no data for the Euro Area, and for the other countries data are only available up to around mid-2022.\n",
    "\n",
    "Also, please note that the U.S. government expenditure series (FGEXPND) is reported in current prices, while the series for Denmark and Austria are in constant (real) prices.\n",
    "This means the U.S. values are not directly comparable to the European data, as they include the effects of inflation.\n",
    "⚠️ To be corrected before the exam: replace the U.S. series with a real (chained-volume) government expenditure series."
   ]
  }
 ],
 "metadata": {
  "kernelspec": {
   "display_name": "base",
   "language": "python",
   "name": "python3"
  },
  "language_info": {
   "codemirror_mode": {
    "name": "ipython",
    "version": 3
   },
   "file_extension": ".py",
   "mimetype": "text/x-python",
   "name": "python",
   "nbconvert_exporter": "python",
   "pygments_lexer": "ipython3",
   "version": "3.12.7"
  },
  "toc-autonumbering": true
 },
 "nbformat": 4,
 "nbformat_minor": 4
}
